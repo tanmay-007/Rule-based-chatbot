{
 "cells": [
  {
   "cell_type": "code",
   "execution_count": 1,
   "metadata": {},
   "outputs": [
    {
     "name": "stdout",
     "output_type": "stream",
     "text": [
      "hello\n"
     ]
    }
   ],
   "source": [
    "print(\"hello\")"
   ]
  },
  {
   "cell_type": "code",
   "execution_count": 2,
   "metadata": {},
   "outputs": [],
   "source": [
    "import pymongo\n",
    "from pymongo import MongoClient"
   ]
  },
  {
   "cell_type": "code",
   "execution_count": 3,
   "metadata": {},
   "outputs": [],
   "source": [
    "client = pymongo.MongoClient(\"mongodb://127.0.0.1:27017/\")"
   ]
  },
  {
   "cell_type": "code",
   "execution_count": 4,
   "metadata": {},
   "outputs": [],
   "source": [
    "mydb = client[\"services\"]"
   ]
  },
  {
   "cell_type": "code",
   "execution_count": 5,
   "metadata": {},
   "outputs": [],
   "source": [
    "infy = mydb.uinfy"
   ]
  },
  {
   "cell_type": "code",
   "execution_count": 6,
   "metadata": {},
   "outputs": [
    {
     "data": {
      "text/plain": [
       "{'i am': 'you are',\n",
       " 'i was': 'you were',\n",
       " 'i': 'you',\n",
       " \"i'm\": 'you are',\n",
       " \"i'd\": 'you would',\n",
       " \"i've\": 'you have',\n",
       " \"i'll\": 'you will',\n",
       " 'my': 'your',\n",
       " 'you are': 'I am',\n",
       " 'you were': 'I was',\n",
       " \"you've\": 'I have',\n",
       " \"you'll\": 'I will',\n",
       " 'your': 'my',\n",
       " 'yours': 'mine',\n",
       " 'you': 'me',\n",
       " 'me': 'you'}"
      ]
     },
     "execution_count": 6,
     "metadata": {},
     "output_type": "execute_result"
    }
   ],
   "source": [
    "\n",
    "from nltk.chat.util import Chat, reflections\n",
    "reflections"
   ]
  },
  {
   "cell_type": "code",
   "execution_count": 7,
   "metadata": {},
   "outputs": [
    {
     "name": "stdout",
     "output_type": "stream",
     "text": [
      "Enter your name: Tejas \n",
      "Enter your email: tejas@gmail.com\n",
      "Enter Your mobile no7878787878\n",
      "hii Tejas , how can i help you ?\n",
      "1 .i want to check my covid test \n",
      "2. i want to book my apoinment\n",
      "3. what is covid cases\n",
      "4. i want to book vaccine\n",
      "5. i want live support\n",
      "6. quit\n",
      ">i want to check my covid test\n",
      " redirect to covid test page\n",
      ">i want to book my apoinment\n",
      "redirected link\n",
      ">what is covid cases\n",
      "show the cases in pune : api\n",
      ">i want to book vaccine\n",
      "redirected link\n",
      "> i want live support\n",
      "None\n",
      ">i want live support\n",
      "our support team contact with you, just a sec, check whatsapp\n",
      ">quit\n",
      "Bye, take care. See you soon!!\n"
     ]
    }
   ],
   "source": [
    "a = {}\n",
    "n = input(\"Enter your name: \")\n",
    "e = input(\"Enter your email: \")\n",
    "no = int(input(\"Enter Your mobile no\"))\n",
    "a.update({\"name\" : n,\"email\": e ,\"mobile_no \": no})\n",
    "#print(a)\n",
    "infy.insert_one(a)\n",
    "print(\"hii {}, how can i help you ?\".format(a[\"name\"]))\n",
    "print(\"1 .i want to check my covid test \")\n",
    "print(\"2. i want to book my apoinment\")\n",
    "print(\"3. what is covid cases\")\n",
    "print(\"4. i want to book vaccine\")\n",
    "print(\"5. i want live support\")\n",
    "pairs =  [\n",
    "    [\n",
    "      r\"i want to check my covid test\",\n",
    "        [\" redirect to covid test page\",]\n",
    "    ],\n",
    "    [\n",
    "        r\"i want to book my apoinment\",\n",
    "        [\"redirected link\",]\n",
    "    ],\n",
    "    [\n",
    "        r\"what is covid cases\",\n",
    "        [\"show the cases in pune : api\",]\n",
    "    ],\n",
    "    [\n",
    "        r\"i want to book vaccine\",\n",
    "        [\"redirected link\",]\n",
    "    ],\n",
    "    [\n",
    "        r\"i want live support\",\n",
    "        [\"our support team contact with you, just a sec, check whatsapp\",]\n",
    "    ],\n",
    "    [\n",
    "        r\"How can I help you?\",\n",
    "        [\"I am looking for online guides and courses for DataScience. Can you suggest some? \",]\n",
    "    ],\n",
    "    [\n",
    "        r\"I am (.*) doing good\",\n",
    "        [\"Thats great to hear. How can I help you?\",]\n",
    "    ],\n",
    "    [\n",
    "        r\"I am looking for online guides and courses for DataScience. Can you suggest some?\",\n",
    "        [\"Coding Blocks is a great option to learn datascience. You can check their website for more informantion\",]\n",
    "    ],\n",
    "    [\n",
    "        r\"Thanks for your suggestions. Do they have great authors and instructorr?\",\n",
    "        [\"Yes, they have world class authors. That is their primary strengh\",]\n",
    "    ],\n",
    "    [\n",
    "        r\"(.*) thank you so much, that was very helpful\",\n",
    "        [\"I'm happy to help you out. No problem, you're welcome\",]\n",
    "    ],\n",
    "    [\n",
    "        r\"quit\",\n",
    "        [\"Bye, take care. See you soon!!\"]\n",
    "    ],\n",
    "    \n",
    "]\n",
    "chat = Chat(pairs,reflections) #capital C\n",
    "def endChat():\n",
    "    print(\"Hi, Welcome to Virtual consistancy\")\n",
    "chat.converse()"
   ]
  },
  {
   "cell_type": "code",
   "execution_count": null,
   "metadata": {},
   "outputs": [],
   "source": []
  },
  {
   "cell_type": "code",
   "execution_count": null,
   "metadata": {},
   "outputs": [],
   "source": []
  }
 ],
 "metadata": {
  "kernelspec": {
   "display_name": "Python 3",
   "language": "python",
   "name": "python3"
  },
  "language_info": {
   "codemirror_mode": {
    "name": "ipython",
    "version": 3
   },
   "file_extension": ".py",
   "mimetype": "text/x-python",
   "name": "python",
   "nbconvert_exporter": "python",
   "pygments_lexer": "ipython3",
   "version": "3.7.6"
  }
 },
 "nbformat": 4,
 "nbformat_minor": 4
}
